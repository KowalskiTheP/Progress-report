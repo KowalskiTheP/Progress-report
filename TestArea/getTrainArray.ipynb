{
 "cells": [
  {
   "cell_type": "code",
   "execution_count": 1,
   "metadata": {
    "collapsed": false
   },
   "outputs": [
    {
     "name": "stdout",
     "output_type": "stream",
     "text": [
      "[   628.48    622.38    623.38 ...,  12200.52  12139.35  12154.7 ]\n"
     ]
    }
   ],
   "source": [
    "import numpy as np\n",
    "import pandas as pd\n",
    "from datetime import datetime\n",
    "\n",
    "dax_df=pd.read_csv('../Data/dax_19700103_20170412.csv', sep=';', header=0)\n",
    "\n",
    "# Some definitions and initialisation\n",
    "dataSet = np.zeros((len(dax_df), 3))\n",
    "refdate = '01.01.1900'\n",
    "date_format = \"%d.%m.%Y\"\n",
    "b = datetime.strptime(refdate, date_format)\n",
    "\n",
    "for i in range(len(dax_df)):\n",
    "# The next 7 lines are needed to convert the date format in \"%d.%m.%Y\". \n",
    "# If the data already has this format nothing should happen.\n",
    "  d=dax_df['Datum'][i].split('.')[0]\n",
    "  m=dax_df['Datum'][i].split('.')[1]\n",
    "  y=dax_df['Datum'][i].split('.')[2]\n",
    "  if int(y)>17 and int(y)<1000:\n",
    "    y=str(int(y)+1900)\n",
    "  else:\n",
    "    y=str(int(y)+2000)\n",
    "  origDate = str(d+'.'+m+'.'+y)\n",
    "  a = datetime.strptime(origDate, date_format)\n",
    "  dataSet[i,0] = int(str(a-b).split(' ')[0])\n",
    "  \n",
    "# The original data had commas as decimal signs. With sed all commas were replaced with points. \n",
    "# Now there are numbers like 1.000.54 which are catched by the following 'try' statemants.  \n",
    "  try:\n",
    "    dataSet[i][1] = float(dax_df['Eroeffnung'][i])\n",
    "  except:\n",
    "    tmpEroeffnung = str(dax_df['Eroeffnung'][i]).split('.')\n",
    "    dataSet[i][1] = float(str(tmpEroeffnung[0]+tmpEroeffnung[1]+'.'+tmpEroeffnung[2]))   \n",
    "  try:\n",
    "    dataSet[i][2] = float(dax_df['Schluss'][i])\n",
    "  except:\n",
    "    tmpSchluss = str(dax_df['Schluss'][i]).split('.')\n",
    "    dataSet[i][2] = float(str(tmpSchluss[0]+tmpSchluss[1]+'.'+tmpSchluss[2]))\n",
    "\n",
    "\n",
    "# Test!!!!!!!!!!\n",
    "dataSet = dataSet[:,2]\n",
    "    \n",
    "print dataSet"
   ]
  },
  {
   "cell_type": "code",
   "execution_count": 2,
   "metadata": {
    "collapsed": false
   },
   "outputs": [
    {
     "name": "stdout",
     "output_type": "stream",
     "text": [
      "(7930, 50, 1)\n",
      "(7930, 50, 1)\n",
      "(7930,)\n",
      "[ -8.39679938e-02  -8.65603645e-02  -9.65327092e-02 ...,  -1.63274289e-01\n",
      "  -1.37701084e-01   4.81182000e+03]\n",
      "[[[ 0.        ]\n",
      "  [-0.00970596]\n",
      "  [-0.00811482]\n",
      "  [-0.0073988 ]\n",
      "  [-0.01556135]\n",
      "  [-0.02480588]\n",
      "  [-0.03373218]\n",
      "  [-0.04195838]\n",
      "  [-0.05853806]\n",
      "  [-0.07433809]\n",
      "  [-0.07747263]\n",
      "  [-0.07592923]\n",
      "  [-0.06095659]\n",
      "  [-0.05658096]\n",
      "  [-0.06095659]\n",
      "  [-0.05989053]\n",
      "  [-0.05716968]\n",
      "  [-0.05592859]\n",
      "  [-0.06994654]\n",
      "  [-0.07368572]\n",
      "  [-0.08581021]\n",
      "  [-0.09042452]\n",
      "  [-0.0835667 ]\n",
      "  [-0.083153  ]\n",
      "  [-0.07148994]\n",
      "  [-0.06841904]\n",
      "  [-0.07557918]\n",
      "  [-0.07314473]\n",
      "  [-0.07651795]\n",
      "  [-0.08291433]\n",
      "  [-0.08285069]\n",
      "  [-0.0909655 ]\n",
      "  [-0.08273931]\n",
      "  [-0.08343941]\n",
      "  [-0.08125955]\n",
      "  [-0.08491917]\n",
      "  [-0.09338404]\n",
      "  [-0.0968209 ]\n",
      "  [-0.10173753]\n",
      "  [-0.11120481]\n",
      "  [-0.12587513]\n",
      "  [-0.11947874]\n",
      "  [-0.11102979]\n",
      "  [-0.10694055]\n",
      "  [-0.12321792]\n",
      "  [-0.11675789]\n",
      "  [-0.10894539]\n",
      "  [-0.09540479]\n",
      "  [-0.08469641]\n",
      "  [-0.09392503]]\n",
      "\n",
      " [[ 0.        ]\n",
      "  [ 0.00160674]\n",
      "  [ 0.00232977]\n",
      "  [-0.00591279]\n",
      "  [-0.01524792]\n",
      "  [-0.02426171]\n",
      "  [-0.03256853]\n",
      "  [-0.04931071]\n",
      "  [-0.06526559]\n",
      "  [-0.06843086]\n",
      "  [-0.06687233]\n",
      "  [-0.05175295]\n",
      "  [-0.04733443]\n",
      "  [-0.05175295]\n",
      "  [-0.05067644]\n",
      "  [-0.04792892]\n",
      "  [-0.04667566]\n",
      "  [-0.060831  ]\n",
      "  [-0.06460683]\n",
      "  [-0.07685016]\n",
      "  [-0.08150969]\n",
      "  [-0.07458466]\n",
      "  [-0.07416691]\n",
      "  [-0.06238954]\n",
      "  [-0.05928854]\n",
      "  [-0.06651885]\n",
      "  [-0.06406054]\n",
      "  [-0.06746682]\n",
      "  [-0.0739259 ]\n",
      "  [-0.07386163]\n",
      "  [-0.08205598]\n",
      "  [-0.07374916]\n",
      "  [-0.07445612]\n",
      "  [-0.07225489]\n",
      "  [-0.07595038]\n",
      "  [-0.08449822]\n",
      "  [-0.08796877]\n",
      "  [-0.09293358]\n",
      "  [-0.10249365]\n",
      "  [-0.11730775]\n",
      "  [-0.11084868]\n",
      "  [-0.10231691]\n",
      "  [-0.0981876 ]\n",
      "  [-0.11462451]\n",
      "  [-0.10810116]\n",
      "  [-0.10021209]\n",
      "  [-0.08653877]\n",
      "  [-0.07572544]\n",
      "  [-0.08504451]\n",
      "  [-0.08396799]]\n",
      "\n",
      " [[ 0.        ]\n",
      "  [ 0.00072187]\n",
      "  [-0.00750746]\n",
      "  [-0.01682762]\n",
      "  [-0.02582694]\n",
      "  [-0.03412044]\n",
      "  [-0.05083577]\n",
      "  [-0.06676506]\n",
      "  [-0.06992525]\n",
      "  [-0.06836921]\n",
      "  [-0.05327409]\n",
      "  [-0.04886265]\n",
      "  [-0.05327409]\n",
      "  [-0.0521993 ]\n",
      "  [-0.04945619]\n",
      "  [-0.04820495]\n",
      "  [-0.06233758]\n",
      "  [-0.06610735]\n",
      "  [-0.07833103]\n",
      "  [-0.08298309]\n",
      "  [-0.07606917]\n",
      "  [-0.07565209]\n",
      "  [-0.06389361]\n",
      "  [-0.06079759]\n",
      "  [-0.0680163 ]\n",
      "  [-0.06556194]\n",
      "  [-0.06896275]\n",
      "  [-0.07541147]\n",
      "  [-0.0753473 ]\n",
      "  [-0.08352851]\n",
      "  [-0.07523501]\n",
      "  [-0.07594084]\n",
      "  [-0.07374314]\n",
      "  [-0.07743271]\n",
      "  [-0.08596683]\n",
      "  [-0.08943181]\n",
      "  [-0.09438866]\n",
      "  [-0.1039334 ]\n",
      "  [-0.11872373]\n",
      "  [-0.11227502]\n",
      "  [-0.10375694]\n",
      "  [-0.09963425]\n",
      "  [-0.11604479]\n",
      "  [-0.10953191]\n",
      "  [-0.10165549]\n",
      "  [-0.08800411]\n",
      "  [-0.07720812]\n",
      "  [-0.08651224]\n",
      "  [-0.08543745]\n",
      "  [-0.08656036]]]\n",
      "[-0.08396799 -0.08656036 -0.09653271]\n"
     ]
    }
   ],
   "source": [
    "# convert an array of values into a dataset matrix\n",
    "def get_windows(dataset,winLength):\n",
    "  x_train, y_train = [], []\n",
    "  for i in range(len(dataset)-(winLength+1)):\n",
    "    x_train.append(dataset[i:i+winLength])\n",
    "    y_train.append(dataset[i+winLength])\n",
    "  return np.array(x_train), np.array(y_train)\n",
    "\n",
    "def create_dataset(dataset, look_back=1):\n",
    "  dataX, dataY = [], []\n",
    "  for i in range(len(dataset)-look_back-1):\n",
    "    print i\n",
    "    #a = dataset[i:(i+look_back), 0]\n",
    "    a = dataset[i:(i+look_back)]\n",
    "    dataX.append(a)\n",
    "    dataY.append(dataset[i + look_back])\n",
    "    # dataY.append(dataset[i + look_back,2])\n",
    "  return np.array(dataX), np.array(dataY)\n",
    "\n",
    "def normalise_windows(window_data):\n",
    "    normalised_data = []\n",
    "    for window in window_data:\n",
    "        normalised_window = [((float(p) / float(window[0])) - 1) for p in window]\n",
    "        normalised_data.append(normalised_window)\n",
    "    return normalised_data\n",
    "\n",
    "# split into train and test sets\n",
    "train_size = int(len(dataSet) * 0.67)\n",
    "test_size = len(dataSet) - train_size\n",
    "# train, test = dataSet[0:train_size,:], dataSet[train_size:len(dataSet),:]\n",
    "train, test = dataSet[0:train_size], dataSet[train_size:len(dataSet)]\n",
    "\n",
    "# reshape into X=t and Y=t+1\n",
    "look_back = 1\n",
    "#trainX, trainY = create_dataset(train, look_back)\n",
    "#testX, testY = create_dataset(test, look_back)\n",
    "trainX, trainY = get_windows(train,50)\n",
    "testX, testY = get_windows(test,50)\n",
    "\n",
    "trainX = np.reshape(trainX, (trainX.shape[0], trainX.shape[1], 1))\n",
    "\n",
    "print trainX.shape\n",
    "#print trainX\n",
    "\n",
    "trainX = np.array(normalise_windows(trainX))\n",
    "testX = np.array(normalise_windows(testX))\n",
    "#print trainX\n",
    "trainX = np.reshape(trainX, (trainX.shape[0], trainX.shape[1], 1))\n",
    "testX = np.reshape(testX, (testX.shape[0], testX.shape[1], 1))\n",
    "print trainX.shape\n",
    "\n",
    "\n",
    "for j in range(trainX.shape[0]-1):\n",
    "  trainY[j]=trainX[j+1][-1]\n",
    "\n",
    "for j in range(testX.shape[0]-1):\n",
    "  testY[j]=testX[j+1][-1]\n",
    "\n",
    "print trainY.shape\n",
    "print trainY\n",
    "\n",
    "# window_data = np.reshape(trainX[0:7950], (159,50,1,3))\n",
    "# window_data = np.reshape(trainX[0:7950], (159,50,1))\n",
    "# print window_data.shape\n",
    "# print window_data\n",
    "\n",
    "# normalised_data = normalise_windows(window_data)\n",
    "\n",
    "# print normalised_data \n",
    "print trainX[0:3]\n",
    "print trainY[0:3]\n",
    "#print testX\n"
   ]
  },
  {
   "cell_type": "code",
   "execution_count": 12,
   "metadata": {
    "collapsed": false
   },
   "outputs": [
    {
     "name": "stdout",
     "output_type": "stream",
     "text": [
      "('> Compilation Time : ', 0.031408071517944336)\n",
      "Train on 7533 samples, validate on 397 samples\n",
      "Epoch 1/1\n",
      "7533/7533 [==============================] - 67s - loss: 0.0024 - val_loss: 58324.9531\b\b\b\b\b\b\b\b\b\b\b\b\b\b\b\b\b\b\b\b\b\b\b\b\b\b\b\b\b\b\b\b\b\b\b\b\b\b\b\b\b\b\b\b\b\b\b\b\b\b\b\b\b\b\b\b\b\b\b\b\b\b\b\b\b\b\b\b\b\b\b\b\b\b\b\b\b\b\b\b\b\b\b\b\b\b\b\b\b\b\b\b\b\b\b\b\b\b\b\b\b\b\b\b\b\b\b\b\b\b\b\b\b\b\b\b\b\b\b\b\b\b\b\b\b\b\b\b\b\b\b\b\b\b\b\b\b\b\b\b\b\b\b\b\b\b\b\b\b\b\b\b\b\b\b\b\b\b\b\b\b\b\b\b\b\b\b\b\b\b\b\b\b\b\b\b\b\b\b\b\b\b\b\b\b\b\b\b\b\b\b\b\b\b\b\b\b\b\b\b\b\b\b\b\b\b\b\b\b\b\b\b\b\b\b\b\b\b\b\b\b\b\b\b\b\b\b\b\b\b\b\b\b\b\b\b\b\b\b\b\b\b\b\b\b\b\b\b\b\b\b\b\b\b\b\b\b\b\b\b\b\b\b\b\b\b\b\b\b\b\b\b\b\b\b\b\b\b\b\b\b\b\b\b\b\b\b\b\b\b\b\b\b\b\b\b\b\b\b\b\b\b\b\b\b\b\b\b\b\b\b\b\b\b\b\b\b\b\b\b\b\b\b\b\b\b\b\b\b\b\b\b\b\b\b\b\b\b\b\b\b\b\b\b\b\b\b\b\b\b\b\b\b\b\b\b\b\b\b\b\b\b\b\b\b\b\b\b\b\b\b\b\b\b\b\b\b\b\b\b\b\b\b\b\b\b\b\b\b\b\b\b\b\b\b\b\b\b\b\b\b\b\b\b\b\b\b\b\b\b\b\b\b\b\b\b\b\b\b\b\b\b\b\b\b\b\b\b\b\b\b\b\b\b\b\b\b\b\b\b\b\b\b\b\b\b\b\b\b\b\b\b\b\b\b\b\b\b\b\b\b\b\b\b\b\b\b\b\b\b\b\b\b\b\b\b\b\b\b\b\b\b\b\b\b\b\b\b\b\b\b\b\b\b\b\b\b\b\b\b\b\b\b\b\b\b\b\b\b\b\b\b\b\b\b\b\b\b\b\b\b\b\b\b\b\b\b\b\b\b\b\b\b\b\b\b\b\b\b\b\b\b\b\b\b\b\b\b\b\b\b\b\b\b\b\b\b\b\b\b\b\b\b\b\b\b\b\b\b\b\b\b\b\b\b\b\b\b\b\b\b\b\b\b\b\b\b\b\b\b\b\b\b\b\b\b\b\b\b\b\b\b\b\b\b\b\b\b\b\b\b\b\b\b\b\b\b\b\b\b\b\b\b\b\b\b\b\b\b\b\b\b\b\b\b\b\b\b\b\b\b\b\b\b\b\b\b\b\b\b\b\b\b\b\b\b\b\b\b\b\b\b\b\b\b\b\b\b\b\b\b\b\b\b\b\b\b\b\b\b\b\b\b\b\b\b\b\b\b\b\b\b\b\b\b\b\b\b\b\b\b\b\b\b\b\b\b\b\b\b\b\b\b\b\b\b\b\b\b\b\b\b\b\b\b\b\b\b\b\b\b\b\b\b\b\b\b\b\b\b\b\b\b\b\b\b\b\b\b\b\b\b\b\b\b\b\b\b\b\b\b\b\b\b\b\b\b\b\b\b\b\b\b\b\b\b\b\b\b\b\b\b\b\b\b\b\b\b\b\b\b\b\b\b\b\b\b\b\b\b\b\b\b\b\b\b\b\b\b\b\b\b\b\b\b\b\b\b\b\b\b\b\b\b\b\b\b\b\b\b\b\b\b\b\b\b\b\b\b\b\b\b\b\b\b\b\b\b\b\b\b\b\b\b\b\b\b\b\b\b\b\b\b\b\b\b\b\b\b\b\b\b\b\b\b\b\b\b\b\b\b\b\b\b\b\b\b\b\b\b\b\b\b\b\b\b\b\b\b\b\b\b\b\b\b\b\b\b\b\b\b\b\b\b\b\b\b\b\b\b\b\b\b\b\b\b\b\b\b\b\b\b\n"
     ]
    },
    {
     "data": {
      "text/plain": [
       "<keras.callbacks.History at 0x7f577360c290>"
      ]
     },
     "execution_count": 12,
     "metadata": {},
     "output_type": "execute_result"
    }
   ],
   "source": [
    "import time\n",
    "from keras.models import Sequential\n",
    "from keras.layers import Dense\n",
    "from keras.layers import LSTM\n",
    "\n",
    "from keras.layers.core import Dense, Activation, Dropout\n",
    "from keras.layers.recurrent import LSTM\n",
    "from keras.models import Sequential\n",
    "\n",
    "from sklearn.preprocessing import MinMaxScaler\n",
    "from sklearn.metrics import mean_squared_error\n",
    "\n",
    "def predict_point_by_point(model, data):\n",
    "    #Predict each timestep given the last sequence of true data, in effect only predicting 1 step ahead each time\n",
    "    predicted = model.predict(data)\n",
    "    predicted = np.reshape(predicted, (predicted.size,))\n",
    "    return predicted\n",
    "\n",
    "def build_model(layers):\n",
    "    model = Sequential()\n",
    "\n",
    "    model.add(LSTM(\n",
    "        units=layers[1],\n",
    "        input_shape=(None, layers[0]),\n",
    "        #input_dim=layers[0],\n",
    "        #output_dim=layers[1],\n",
    "        return_sequences=True))\n",
    "    model.add(Dropout(0.2))\n",
    "\n",
    "    #model.add(LSTM(\n",
    "    #    layers[2],\n",
    "    #    return_sequences=True))\n",
    "    #model.add(Dropout(0.2))\n",
    "    \n",
    "    model.add(LSTM(\n",
    "        layers[3],\n",
    "        return_sequences=False))\n",
    "    model.add(Dropout(0.2))\n",
    "\n",
    "    model.add(Dense(units=layers[4]))\n",
    "    \n",
    "    model.add(Activation(\"linear\"))\n",
    "\n",
    "    start = time.time()\n",
    "    #model.compile(loss=\"mse\", optimizer=\"rmsprop\")\n",
    "    model.compile(loss=\"mse\", optimizer=\"adam\")\n",
    "    print(\"> Compilation Time : \", time.time() - start)\n",
    "    return model\n",
    "\n",
    "# # create and fit the LSTM network\n",
    "# print 'create the LSTM network'\n",
    "# model = Sequential()\n",
    "# model.add(LSTM(64, input_dim=(3), return_sequences=True))\n",
    "# model.add(LSTM(64, return_sequences=False))\n",
    "# model.add(Dense(1))\n",
    "# start = time.time()\n",
    "# model.compile(loss='mean_squared_error', optimizer='adam')\n",
    "# print \"Compilation Time : \", time.time() - start\n",
    "# #model.fit(, trainY, batch_size=1, epochs=10, verbose=2)\n",
    "# print 'Fit the model'\n",
    "# model.fit(trainX, trainY, batch_size=1,verbose=2)\n",
    "# \n",
    "# # make predictions\n",
    "# print 'make predictions'\n",
    "# trainPredict = model.predict(trainX)\n",
    "# testPredict = model.predict(testX)\n",
    "\n",
    "layers = [1, 50, 100, 100, 1]\n",
    "model = build_model(layers)\n",
    "epochs=1\n",
    "model.fit(\n",
    "    trainX,\n",
    "    trainY,\n",
    "    batch_size=512,\n",
    "    epochs=epochs,\n",
    "    validation_split=0.05)\n",
    "\n"
   ]
  },
  {
   "cell_type": "code",
   "execution_count": 26,
   "metadata": {
    "collapsed": false
   },
   "outputs": [
    {
     "name": "stdout",
     "output_type": "stream",
     "text": [
      "[ -8.39679938e-02  -8.65603645e-02  -9.65327092e-02 ...,  -1.63274289e-01\n",
      "  -1.37701084e-01   4.81182000e+03] [-0.07301299 -0.06566118 -0.06658473 ..., -0.13604465 -0.1412112\n",
      " -0.13006584]\n",
      "[  1.17935348e-01   1.14846456e-01   1.10308326e-01 ...,   4.64967569e-02\n",
      "   5.76672842e-02   1.21393500e+04] [ 0.06852341  0.10196894  0.12787327 ...,  0.03644263  0.04753189\n",
      "  0.05980539]\n"
     ]
    }
   ],
   "source": [
    "def predict_point_by_point(model, data):\n",
    "    #Predict each timestep given the last sequence of true data, in effect only predicting 1 step ahead each time\n",
    "    predicted = model.predict(data)\n",
    "    predicted = np.reshape(predicted, (predicted.size,))\n",
    "    return predicted\n",
    "\n",
    "#trainPredict = model.predict(trainX)\n",
    "trainPredict = predict_point_by_point(model, trainX)\n",
    "testPredict = predict_point_by_point(model, testX)\n",
    "print trainY, trainPredict\n",
    "print testY, testPredict"
   ]
  },
  {
   "cell_type": "code",
   "execution_count": 32,
   "metadata": {
    "collapsed": false
   },
   "outputs": [
    {
     "data": {
      "image/png": "[encoded data removed]",
      "text/plain": [
       "<matplotlib.figure.Figure at 0x7f36f6ec5750>"
      ]
     },
     "metadata": {},
     "output_type": "display_data"
    }
   ],
   "source": [
    "import matplotlib.pyplot as plt\n",
    "plt.plot(trainY)\n",
    "plt.plot(trainPredict)\n",
    "axes = plt.gca()\n",
    "axes.set_ylim([-0.5,0.5])\n",
    "plt.show()"
   ]
  },
  {
   "cell_type": "code",
   "execution_count": 33,
   "metadata": {
    "collapsed": false
   },
   "outputs": [
    {
     "data": {
      "image/png": "[encoded data removed]",
      "text/plain": [
       "<matplotlib.figure.Figure at 0x7f36f6ec5650>"
      ]
     },
     "metadata": {},
     "output_type": "display_data"
    }
   ],
   "source": [
    "plt.plot(testY)\n",
    "plt.plot(testPredict)\n",
    "axes = plt.gca()\n",
    "axes.set_ylim([-0.5,0.5])\n",
    "plt.show()"
   ]
  },
  {
   "cell_type": "code",
   "execution_count": 28,
   "metadata": {
    "collapsed": false
   },
   "outputs": [
    {
     "name": "stdout",
     "output_type": "stream",
     "text": [
      "[ 0.06852341  0.10196894  0.12787327 ...,  0.03644263  0.04753189\n",
      "  0.05980539]\n",
      "-0.0839679938301\n",
      "Train Score: 54.04 RMSE\n",
      "Test Score: 194.88 RMSE\n"
     ]
    },
    {
     "ename": "IndexError",
     "evalue": "too many indices for array",
     "output_type": "error",
     "traceback": [
      "\u001b[0;31m---------------------------------------------------------------------------\u001b[0m",
      "\u001b[0;31mIndexError\u001b[0m                                Traceback (most recent call last)",
      "\u001b[0;32m<ipython-input-28-b474ea879669>\u001b[0m in \u001b[0;36m<module>\u001b[0;34m()\u001b[0m\n\u001b[1;32m     13\u001b[0m \u001b[0;31m# shift train predictions for plotting\u001b[0m\u001b[0;34m\u001b[0m\u001b[0;34m\u001b[0m\u001b[0m\n\u001b[1;32m     14\u001b[0m \u001b[0mtrainPredictPlot\u001b[0m \u001b[0;34m=\u001b[0m \u001b[0mnp\u001b[0m\u001b[0;34m.\u001b[0m\u001b[0mempty_like\u001b[0m\u001b[0;34m(\u001b[0m\u001b[0mdataSet\u001b[0m\u001b[0;34m)\u001b[0m\u001b[0;34m\u001b[0m\u001b[0m\n\u001b[0;32m---> 15\u001b[0;31m \u001b[0mtrainPredictPlot\u001b[0m\u001b[0;34m[\u001b[0m\u001b[0;34m:\u001b[0m\u001b[0;34m,\u001b[0m \u001b[0;34m:\u001b[0m\u001b[0;34m]\u001b[0m \u001b[0;34m=\u001b[0m \u001b[0mnp\u001b[0m\u001b[0;34m.\u001b[0m\u001b[0mnan\u001b[0m\u001b[0;34m\u001b[0m\u001b[0m\n\u001b[0m\u001b[1;32m     16\u001b[0m \u001b[0mtrainPredictPlot\u001b[0m\u001b[0;34m[\u001b[0m\u001b[0mlook_back\u001b[0m\u001b[0;34m:\u001b[0m\u001b[0mlen\u001b[0m\u001b[0;34m(\u001b[0m\u001b[0mtrainPredict\u001b[0m\u001b[0;34m)\u001b[0m\u001b[0;34m+\u001b[0m\u001b[0mlook_back\u001b[0m\u001b[0;34m,\u001b[0m \u001b[0;34m:\u001b[0m\u001b[0;34m]\u001b[0m \u001b[0;34m=\u001b[0m \u001b[0mtrainPredict\u001b[0m\u001b[0;34m\u001b[0m\u001b[0m\n\u001b[1;32m     17\u001b[0m \u001b[0;34m\u001b[0m\u001b[0m\n",
      "\u001b[0;31mIndexError\u001b[0m: too many indices for array"
     ]
    }
   ],
   "source": [
    "import matplotlib.pyplot as plt\n",
    "import math\n",
    "\n",
    "print testPredict\n",
    "print trainY[0]\n",
    "\n",
    "# calculate root mean squared error\n",
    "trainScore = math.sqrt(mean_squared_error(trainY, trainPredict))\n",
    "print('Train Score: %.2f RMSE' % (trainScore))\n",
    "testScore = math.sqrt(mean_squared_error(testY, testPredict))\n",
    "print('Test Score: %.2f RMSE' % (testScore))\n",
    "\n",
    "# shift train predictions for plotting\n",
    "trainPredictPlot = np.empty_like(dataSet)\n",
    "trainPredictPlot[:, :] = np.nan\n",
    "trainPredictPlot[look_back:len(trainPredict)+look_back, :] = trainPredict\n",
    "\n",
    "# shift test predictions for plotting\n",
    "testPredictPlot = np.empty_like(dataSet)\n",
    "testPredictPlot[:, :] = np.nan\n",
    "testPredictPlot[len(trainPredict)+(look_back*2)+1:len(dataSet)-1, :] = testPredict\n",
    "\n",
    "# plot baseline and predictions\n",
    "print dataSet\n",
    "plt.plot(dataSet[:,0],dataSet[:,2])\n",
    "plt.plot(dataSet[0:len(trainPredict),0],trainPredict)\n",
    "#plt.plot(trainPredictPlot)\n",
    "#plt.plot(testPredictPlot)\n",
    "plt.show()"
   ]
  },
  {
   "cell_type": "code",
   "execution_count": 46,
   "metadata": {
    "collapsed": false
   },
   "outputs": [
    {
     "name": "stdout",
     "output_type": "stream",
     "text": [
      "6389.17960305\n"
     ]
    }
   ],
   "source": [
    "print np.sqrt(40821616.0000)\n"
   ]
  },
  {
   "cell_type": "code",
   "execution_count": null,
   "metadata": {
    "collapsed": true
   },
   "outputs": [],
   "source": []
  }
 ],
 "metadata": {
  "kernelspec": {
   "display_name": "Python 2",
   "language": "python",
   "name": "python2"
  },
  "language_info": {
   "codemirror_mode": {
    "name": "ipython",
    "version": 2
   },
   "file_extension": ".py",
   "mimetype": "text/x-python",
   "name": "python",
   "nbconvert_exporter": "python",
   "pygments_lexer": "ipython2",
   "version": "2.7.13"
  }
 },
 "nbformat": 4,
 "nbformat_minor": 1
}
